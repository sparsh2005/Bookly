{
  "nbformat": 4,
  "nbformat_minor": 0,
  "metadata": {
    "colab": {
      "provenance": []
    },
    "kernelspec": {
      "name": "python3",
      "display_name": "Python 3"
    },
    "language_info": {
      "name": "python"
    }
  },
  "cells": [
    {
      "cell_type": "code",
      "source": [
        "from google.colab import drive\n",
        "drive.mount('/content/drive')"
      ],
      "metadata": {
        "colab": {
          "base_uri": "https://localhost:8080/"
        },
        "id": "cFLIkITsi2Jl",
        "outputId": "655e7c83-a722-4776-e26a-7bc56e5e700f"
      },
      "execution_count": 1,
      "outputs": [
        {
          "output_type": "stream",
          "name": "stdout",
          "text": [
            "Mounted at /content/drive\n"
          ]
        }
      ]
    },
    {
      "cell_type": "markdown",
      "source": [
        "**libraries**"
      ],
      "metadata": {
        "id": "XW90hWOijlIa"
      }
    },
    {
      "cell_type": "code",
      "source": [
        "!pip install fireducks"
      ],
      "metadata": {
        "colab": {
          "base_uri": "https://localhost:8080/"
        },
        "id": "JFQu7PYE45FF",
        "outputId": "03fbd2bc-d822-4985-a4dd-c07f6f598d52"
      },
      "execution_count": 2,
      "outputs": [
        {
          "output_type": "stream",
          "name": "stdout",
          "text": [
            "Collecting fireducks\n",
            "  Downloading fireducks-1.1.5-cp310-cp310-manylinux_2_28_x86_64.whl.metadata (961 bytes)\n",
            "Collecting firefw==1.1.5 (from fireducks)\n",
            "  Downloading firefw-1.1.5-py3-none-any.whl.metadata (818 bytes)\n",
            "Requirement already satisfied: pandas<2.3.0,>=1.5.3 in /usr/local/lib/python3.10/dist-packages (from fireducks) (2.2.2)\n",
            "Collecting pyarrow<18.2,>=18.1 (from fireducks)\n",
            "  Downloading pyarrow-18.1.0-cp310-cp310-manylinux_2_28_x86_64.whl.metadata (3.3 kB)\n",
            "Requirement already satisfied: numpy>=1.22.4 in /usr/local/lib/python3.10/dist-packages (from pandas<2.3.0,>=1.5.3->fireducks) (1.26.4)\n",
            "Requirement already satisfied: python-dateutil>=2.8.2 in /usr/local/lib/python3.10/dist-packages (from pandas<2.3.0,>=1.5.3->fireducks) (2.8.2)\n",
            "Requirement already satisfied: pytz>=2020.1 in /usr/local/lib/python3.10/dist-packages (from pandas<2.3.0,>=1.5.3->fireducks) (2024.2)\n",
            "Requirement already satisfied: tzdata>=2022.7 in /usr/local/lib/python3.10/dist-packages (from pandas<2.3.0,>=1.5.3->fireducks) (2024.2)\n",
            "Requirement already satisfied: six>=1.5 in /usr/local/lib/python3.10/dist-packages (from python-dateutil>=2.8.2->pandas<2.3.0,>=1.5.3->fireducks) (1.17.0)\n",
            "Downloading fireducks-1.1.5-cp310-cp310-manylinux_2_28_x86_64.whl (7.1 MB)\n",
            "\u001b[2K   \u001b[90m━━━━━━━━━━━━━━━━━━━━━━━━━━━━━━━━━━━━━━━━\u001b[0m \u001b[32m7.1/7.1 MB\u001b[0m \u001b[31m40.1 MB/s\u001b[0m eta \u001b[36m0:00:00\u001b[0m\n",
            "\u001b[?25hDownloading firefw-1.1.5-py3-none-any.whl (12 kB)\n",
            "Downloading pyarrow-18.1.0-cp310-cp310-manylinux_2_28_x86_64.whl (40.1 MB)\n",
            "\u001b[2K   \u001b[90m━━━━━━━━━━━━━━━━━━━━━━━━━━━━━━━━━━━━━━━━\u001b[0m \u001b[32m40.1/40.1 MB\u001b[0m \u001b[31m17.3 MB/s\u001b[0m eta \u001b[36m0:00:00\u001b[0m\n",
            "\u001b[?25hInstalling collected packages: pyarrow, firefw, fireducks\n",
            "  Attempting uninstall: pyarrow\n",
            "    Found existing installation: pyarrow 17.0.0\n",
            "    Uninstalling pyarrow-17.0.0:\n",
            "      Successfully uninstalled pyarrow-17.0.0\n",
            "\u001b[31mERROR: pip's dependency resolver does not currently take into account all the packages that are installed. This behaviour is the source of the following dependency conflicts.\n",
            "cudf-cu12 24.10.1 requires pyarrow<18.0.0a0,>=14.0.0, but you have pyarrow 18.1.0 which is incompatible.\n",
            "pylibcudf-cu12 24.10.1 requires pyarrow<18.0.0a0,>=14.0.0, but you have pyarrow 18.1.0 which is incompatible.\u001b[0m\u001b[31m\n",
            "\u001b[0mSuccessfully installed fireducks-1.1.5 firefw-1.1.5 pyarrow-18.1.0\n"
          ]
        }
      ]
    },
    {
      "cell_type": "code",
      "source": [
        "#data stuff\n",
        "#import fireducks.pandas as pd\n",
        "import pandas as pd\n",
        "import numpy as np\n",
        "import matplotlib.pyplot as plt\n",
        "\n",
        "#ml models and similarity\n",
        "from sklearn.metrics.pairwise import cosine_similarity\n",
        "from sklearn.feature_extraction.text import TfidfVectorizer\n",
        "\n",
        "#save models for deployment\n",
        "import pickle"
      ],
      "metadata": {
        "id": "mczMW6Eui3Zg"
      },
      "execution_count": 3,
      "outputs": []
    },
    {
      "cell_type": "markdown",
      "source": [
        "**loading and inspecting data**"
      ],
      "metadata": {
        "id": "zKJvv_nVjgrN"
      }
    },
    {
      "cell_type": "code",
      "source": [
        "books = pd.read_csv('/content/drive/MyDrive/ML datasets/bookrec/Books.csv')\n",
        "ratings = pd.read_csv('/content/drive/MyDrive/ML datasets/bookrec/Ratings.csv')\n",
        "users = pd.read_csv('/content/drive/MyDrive/ML datasets/bookrec/Users.csv')\n",
        "\n",
        "#first 5 rows\n",
        "print(\"\\n\\nbooks:\\n\",books.head())\n",
        "print(\"\\n\\nratings:\\n\",ratings.head())\n",
        "print(\"\\n\\nusers:\\n\",users.head())"
      ],
      "metadata": {
        "colab": {
          "base_uri": "https://localhost:8080/"
        },
        "id": "8RIpBC_ejeSz",
        "outputId": "d3b6f5ac-dd04-4570-9a39-0d3d407744e7"
      },
      "execution_count": 4,
      "outputs": [
        {
          "output_type": "stream",
          "name": "stderr",
          "text": [
            "<ipython-input-4-bff0853f2577>:1: DtypeWarning: Columns (3) have mixed types. Specify dtype option on import or set low_memory=False.\n",
            "  books = pd.read_csv('/content/drive/MyDrive/ML datasets/bookrec/Books.csv')\n"
          ]
        },
        {
          "output_type": "stream",
          "name": "stdout",
          "text": [
            "\n",
            "\n",
            "books:\n",
            "          ISBN                                         Book-Title  \\\n",
            "0  0195153448                                Classical Mythology   \n",
            "1  0002005018                                       Clara Callan   \n",
            "2  0060973129                               Decision in Normandy   \n",
            "3  0374157065  Flu: The Story of the Great Influenza Pandemic...   \n",
            "4  0393045218                             The Mummies of Urumchi   \n",
            "\n",
            "            Book-Author Year-Of-Publication                   Publisher  \\\n",
            "0    Mark P. O. Morford                2002     Oxford University Press   \n",
            "1  Richard Bruce Wright                2001       HarperFlamingo Canada   \n",
            "2          Carlo D'Este                1991             HarperPerennial   \n",
            "3      Gina Bari Kolata                1999        Farrar Straus Giroux   \n",
            "4       E. J. W. Barber                1999  W. W. Norton &amp; Company   \n",
            "\n",
            "                                         Image-URL-S  \\\n",
            "0  http://images.amazon.com/images/P/0195153448.0...   \n",
            "1  http://images.amazon.com/images/P/0002005018.0...   \n",
            "2  http://images.amazon.com/images/P/0060973129.0...   \n",
            "3  http://images.amazon.com/images/P/0374157065.0...   \n",
            "4  http://images.amazon.com/images/P/0393045218.0...   \n",
            "\n",
            "                                         Image-URL-M  \\\n",
            "0  http://images.amazon.com/images/P/0195153448.0...   \n",
            "1  http://images.amazon.com/images/P/0002005018.0...   \n",
            "2  http://images.amazon.com/images/P/0060973129.0...   \n",
            "3  http://images.amazon.com/images/P/0374157065.0...   \n",
            "4  http://images.amazon.com/images/P/0393045218.0...   \n",
            "\n",
            "                                         Image-URL-L  \n",
            "0  http://images.amazon.com/images/P/0195153448.0...  \n",
            "1  http://images.amazon.com/images/P/0002005018.0...  \n",
            "2  http://images.amazon.com/images/P/0060973129.0...  \n",
            "3  http://images.amazon.com/images/P/0374157065.0...  \n",
            "4  http://images.amazon.com/images/P/0393045218.0...  \n",
            "\n",
            "\n",
            "ratings:\n",
            "    User-ID        ISBN  Book-Rating\n",
            "0   276725  034545104X            0\n",
            "1   276726  0155061224            5\n",
            "2   276727  0446520802            0\n",
            "3   276729  052165615X            3\n",
            "4   276729  0521795028            6\n",
            "\n",
            "\n",
            "users:\n",
            "    User-ID                            Location   Age\n",
            "0        1                  nyc, new york, usa   NaN\n",
            "1        2           stockton, california, usa  18.0\n",
            "2        3     moscow, yukon territory, russia   NaN\n",
            "3        4           porto, v.n.gaia, portugal  17.0\n",
            "4        5  farnborough, hants, united kingdom   NaN\n"
          ]
        }
      ]
    },
    {
      "cell_type": "code",
      "source": [
        "#shape of datasets\n",
        "print(\"shapes:\")\n",
        "print(\"books: \", books.shape)\n",
        "print(\"Ratings: \", ratings.shape)\n",
        "print(\"Users: \", users.shape)"
      ],
      "metadata": {
        "colab": {
          "base_uri": "https://localhost:8080/"
        },
        "id": "2yNSki0tkRL_",
        "outputId": "192a0844-c49c-4459-a380-b7d8af119852"
      },
      "execution_count": 5,
      "outputs": [
        {
          "output_type": "stream",
          "name": "stdout",
          "text": [
            "shapes:\n",
            "books:  (271360, 8)\n",
            "Ratings:  (1149780, 3)\n",
            "Users:  (278858, 3)\n"
          ]
        }
      ]
    },
    {
      "cell_type": "markdown",
      "source": [
        "**data cleaning**"
      ],
      "metadata": {
        "id": "ULYTGlJclMyt"
      }
    },
    {
      "cell_type": "code",
      "source": [
        "#checking for missing values\n",
        "print(\"missing values: \")\n",
        "print(books.isnull().sum())\n",
        "print(ratings.isnull().sum())\n",
        "print(users.isnull().sum())"
      ],
      "metadata": {
        "colab": {
          "base_uri": "https://localhost:8080/"
        },
        "id": "GI6HzheWk478",
        "outputId": "7bef7e47-2ccf-47bd-86eb-aba7ed94ea0a"
      },
      "execution_count": 6,
      "outputs": [
        {
          "output_type": "stream",
          "name": "stdout",
          "text": [
            "missing values: \n",
            "ISBN                   0\n",
            "Book-Title             0\n",
            "Book-Author            2\n",
            "Year-Of-Publication    0\n",
            "Publisher              2\n",
            "Image-URL-S            0\n",
            "Image-URL-M            0\n",
            "Image-URL-L            3\n",
            "dtype: int64\n",
            "User-ID        0\n",
            "ISBN           0\n",
            "Book-Rating    0\n",
            "dtype: int64\n",
            "User-ID          0\n",
            "Location         0\n",
            "Age         110762\n",
            "dtype: int64\n"
          ]
        }
      ]
    },
    {
      "cell_type": "code",
      "source": [
        "#fill missing values in 'Age' with the mean age\n",
        "users['Age'].fillna(users['Age'].mean(), inplace=True)"
      ],
      "metadata": {
        "colab": {
          "base_uri": "https://localhost:8080/"
        },
        "id": "x0RtW-XGlupQ",
        "outputId": "6146379b-1855-440e-9ba6-7618cc271ac9"
      },
      "execution_count": 7,
      "outputs": [
        {
          "output_type": "stream",
          "name": "stderr",
          "text": [
            "<ipython-input-7-675defc8c499>:2: FutureWarning: A value is trying to be set on a copy of a DataFrame or Series through chained assignment using an inplace method.\n",
            "The behavior will change in pandas 3.0. This inplace method will never work because the intermediate object on which we are setting values always behaves as a copy.\n",
            "\n",
            "For example, when doing 'df[col].method(value, inplace=True)', try using 'df.method({col: value}, inplace=True)' or df[col] = df[col].method(value) instead, to perform the operation inplace on the original object.\n",
            "\n",
            "\n",
            "  users['Age'].fillna(users['Age'].mean(), inplace=True)\n"
          ]
        }
      ]
    },
    {
      "cell_type": "code",
      "source": [
        "#removing duplicates if any\n",
        "books.drop_duplicates(inplace=True)\n",
        "ratings.drop_duplicates(inplace=True)\n",
        "users.drop_duplicates(inplace=True)"
      ],
      "metadata": {
        "id": "UoM8oLryl1sA"
      },
      "execution_count": 8,
      "outputs": []
    },
    {
      "cell_type": "code",
      "source": [
        "#verifying cleaning\n",
        "print(\"\\nCleaned Data:\")\n",
        "print(books.isnull().sum())\n",
        "print(users.isnull().sum())\n",
        "print(ratings.isnull().sum())"
      ],
      "metadata": {
        "colab": {
          "base_uri": "https://localhost:8080/"
        },
        "id": "RGRP-dBQl6kM",
        "outputId": "09a14a80-2f9b-497b-8b43-71a4124daf74"
      },
      "execution_count": 9,
      "outputs": [
        {
          "output_type": "stream",
          "name": "stdout",
          "text": [
            "\n",
            "Cleaned Data:\n",
            "ISBN                   0\n",
            "Book-Title             0\n",
            "Book-Author            2\n",
            "Year-Of-Publication    0\n",
            "Publisher              2\n",
            "Image-URL-S            0\n",
            "Image-URL-M            0\n",
            "Image-URL-L            3\n",
            "dtype: int64\n",
            "User-ID     0\n",
            "Location    0\n",
            "Age         0\n",
            "dtype: int64\n",
            "User-ID        0\n",
            "ISBN           0\n",
            "Book-Rating    0\n",
            "dtype: int64\n"
          ]
        }
      ]
    },
    {
      "cell_type": "markdown",
      "source": [
        "**merging datasets**"
      ],
      "metadata": {
        "id": "cpmoLlNAmALy"
      }
    },
    {
      "cell_type": "code",
      "source": [
        "ratings_with_books = ratings.merge(books, on='ISBN', how='inner')\n",
        "df = ratings_with_books.merge(users, on='User-ID', how='inner')\n",
        "print(df.head())"
      ],
      "metadata": {
        "colab": {
          "base_uri": "https://localhost:8080/"
        },
        "id": "Dn95XZmPl83T",
        "outputId": "889f879c-d2db-442f-cd95-fe54b0b1782f"
      },
      "execution_count": 10,
      "outputs": [
        {
          "output_type": "stream",
          "name": "stdout",
          "text": [
            "   User-ID        ISBN  Book-Rating  \\\n",
            "0   276725  034545104X            0   \n",
            "1   276726  0155061224            5   \n",
            "2   276727  0446520802            0   \n",
            "3   276729  052165615X            3   \n",
            "4   276729  0521795028            6   \n",
            "\n",
            "                                          Book-Title      Book-Author  \\\n",
            "0                               Flesh Tones: A Novel       M. J. Rose   \n",
            "1                                   Rites of Passage       Judith Rae   \n",
            "2                                       The Notebook  Nicholas Sparks   \n",
            "3                                     Help!: Level 1    Philip Prowse   \n",
            "4  The Amsterdam Connection : Level 4 (Cambridge ...      Sue Leather   \n",
            "\n",
            "  Year-Of-Publication                   Publisher  \\\n",
            "0                2002            Ballantine Books   \n",
            "1                2001                      Heinle   \n",
            "2                1996                Warner Books   \n",
            "3                1999  Cambridge University Press   \n",
            "4                2001  Cambridge University Press   \n",
            "\n",
            "                                         Image-URL-S  \\\n",
            "0  http://images.amazon.com/images/P/034545104X.0...   \n",
            "1  http://images.amazon.com/images/P/0155061224.0...   \n",
            "2  http://images.amazon.com/images/P/0446520802.0...   \n",
            "3  http://images.amazon.com/images/P/052165615X.0...   \n",
            "4  http://images.amazon.com/images/P/0521795028.0...   \n",
            "\n",
            "                                         Image-URL-M  \\\n",
            "0  http://images.amazon.com/images/P/034545104X.0...   \n",
            "1  http://images.amazon.com/images/P/0155061224.0...   \n",
            "2  http://images.amazon.com/images/P/0446520802.0...   \n",
            "3  http://images.amazon.com/images/P/052165615X.0...   \n",
            "4  http://images.amazon.com/images/P/0521795028.0...   \n",
            "\n",
            "                                         Image-URL-L  \\\n",
            "0  http://images.amazon.com/images/P/034545104X.0...   \n",
            "1  http://images.amazon.com/images/P/0155061224.0...   \n",
            "2  http://images.amazon.com/images/P/0446520802.0...   \n",
            "3  http://images.amazon.com/images/P/052165615X.0...   \n",
            "4  http://images.amazon.com/images/P/0521795028.0...   \n",
            "\n",
            "                        Location        Age  \n",
            "0              tyler, texas, usa  34.751434  \n",
            "1       seattle, washington, usa  34.751434  \n",
            "2  h, new south wales, australia  16.000000  \n",
            "3           rijeka, n/a, croatia  16.000000  \n",
            "4           rijeka, n/a, croatia  16.000000  \n"
          ]
        }
      ]
    },
    {
      "cell_type": "markdown",
      "source": [
        "**popularity-based recommendation**"
      ],
      "metadata": {
        "id": "fmKlajp_mYf5"
      }
    },
    {
      "cell_type": "code",
      "source": [
        "#counting number of ratings and calculate average rating\n",
        "num_rating_df = df.groupby('Book-Title')['Book-Rating'].count().reset_index()\n",
        "num_rating_df.rename(columns={'Book-Rating': 'num_ratings'}, inplace = True)\n",
        "\n",
        "avg_rating_df = df.groupby('Book-Title')['Book-Rating'].mean().reset_index()\n",
        "avg_rating_df.rename(columns={'Book-Rating': 'avg_rating'}, inplace=True)\n",
        "\n",
        "#merge counts and averages\n",
        "popular_df = num_rating_df.merge(avg_rating_df, on='Book-Title')\n",
        "\n",
        "#filter books with at least 250 ratings and sort by average rating\n",
        "popular_df = popular_df[popular_df['num_ratings'] >= 250].sort_values('avg_rating', ascending=False)\n",
        "\n",
        "#add author and image details\n",
        "popular_df = popular_df.merge(books, on='Book-Title')[['Book-Title', 'Book-Author', 'Image-URL-M', 'num_ratings', 'avg_rating']]\n",
        "\n",
        "#display top 10 popular books\n",
        "print(popular_df.head(10))"
      ],
      "metadata": {
        "colab": {
          "base_uri": "https://localhost:8080/"
        },
        "id": "DYDQi6womQc5",
        "outputId": "eddf306a-9dca-49ec-9460-fe01efaa92e6"
      },
      "execution_count": 11,
      "outputs": [
        {
          "output_type": "stream",
          "name": "stdout",
          "text": [
            "                                          Book-Title    Book-Author  \\\n",
            "0  Harry Potter and the Prisoner of Azkaban (Book 3)  J. K. Rowling   \n",
            "1  Harry Potter and the Prisoner of Azkaban (Book 3)  J. K. Rowling   \n",
            "2  Harry Potter and the Prisoner of Azkaban (Book 3)  J. K. Rowling   \n",
            "3       Harry Potter and the Goblet of Fire (Book 4)  J. K. Rowling   \n",
            "4       Harry Potter and the Goblet of Fire (Book 4)  J. K. Rowling   \n",
            "5     Harry Potter and the Sorcerer's Stone (Book 1)  J. K. Rowling   \n",
            "6     Harry Potter and the Sorcerer's Stone (Book 1)  J. K. Rowling   \n",
            "7     Harry Potter and the Sorcerer's Stone (Book 1)  J. K. Rowling   \n",
            "8     Harry Potter and the Sorcerer's Stone (Book 1)  J. K. Rowling   \n",
            "9  Harry Potter and the Order of the Phoenix (Boo...  J. K. Rowling   \n",
            "\n",
            "                                         Image-URL-M  num_ratings  avg_rating  \n",
            "0  http://images.amazon.com/images/P/0439136350.0...          428    5.852804  \n",
            "1  http://images.amazon.com/images/P/0439136369.0...          428    5.852804  \n",
            "2  http://images.amazon.com/images/P/0786222743.0...          428    5.852804  \n",
            "3  http://images.amazon.com/images/P/0439139597.0...          387    5.824289  \n",
            "4  http://images.amazon.com/images/P/0439139600.0...          387    5.824289  \n",
            "5  http://images.amazon.com/images/P/0590353403.0...          278    5.737410  \n",
            "6  http://images.amazon.com/images/P/043936213X.0...          278    5.737410  \n",
            "7  http://images.amazon.com/images/P/043920352X.0...          278    5.737410  \n",
            "8  http://images.amazon.com/images/P/043936213X.0...          278    5.737410  \n",
            "9  http://images.amazon.com/images/P/043935806X.0...          347    5.501441  \n"
          ]
        }
      ]
    },
    {
      "cell_type": "markdown",
      "source": [
        "**collaborative filtering**"
      ],
      "metadata": {
        "id": "AwgUXfLSoBdU"
      }
    },
    {
      "cell_type": "code",
      "source": [
        "'''\n",
        "#creating a pivot table for collaborative filtering\n",
        "pt = df.pivot_table(index='Book-Title', columns='User-ID', values='Book-Rating').fillna(0)\n",
        "\n",
        "#calculate cosine similarity\n",
        "similarity_scores = cosine_similarity(pt)\n",
        "\n",
        "#function to recomment similar books\n",
        "def recommend(book_name):\n",
        "  #fetch index of book\n",
        "  index = np.where(pt.index == book_name)[0][0]\n",
        "\n",
        "  #calculate similarity scores\n",
        "  scores = list(enumerate(similarity_scores[index]))\n",
        "  scores = sorted(scores, key=lambda x: x[1], reverse=True)[1:6]#top 5 recommendations\n",
        "\n",
        "  #return recommended books\n",
        "  recommendations = []\n",
        "  for i in scores:\n",
        "    recommendations.append(pt.index[i[0]])\n",
        "  return recommendations\n",
        "\n",
        "#eg: get recommendations for '1984'\n",
        "print(recommend('1984'))\n",
        "'''"
      ],
      "metadata": {
        "colab": {
          "base_uri": "https://localhost:8080/",
          "height": 122
        },
        "id": "9CKySyannnj8",
        "outputId": "35c5c4f9-113f-4a9d-cbde-e6cf324b456b"
      },
      "execution_count": 12,
      "outputs": [
        {
          "output_type": "execute_result",
          "data": {
            "text/plain": [
              "\"\\n#creating a pivot table for collaborative filtering\\npt = df.pivot_table(index='Book-Title', columns='User-ID', values='Book-Rating').fillna(0)\\n\\n#calculate cosine similarity\\nsimilarity_scores = cosine_similarity(pt)\\n\\n#function to recomment similar books\\ndef recommend(book_name):\\n  #fetch index of book\\n  index = np.where(pt.index == book_name)[0][0]\\n\\n  #calculate similarity scores\\n  scores = list(enumerate(similarity_scores[index]))\\n  scores = sorted(scores, key=lambda x: x[1], reverse=True)[1:6]#top 5 recommendations\\n\\n  #return recommended books\\n  recommendations = []\\n  for i in scores:\\n    recommendations.append(pt.index[i[0]])\\n  return recommendations\\n\\n#eg: get recommendations for '1984'\\nprint(recommend('1984'))\\n\""
            ],
            "application/vnd.google.colaboratory.intrinsic+json": {
              "type": "string"
            }
          },
          "metadata": {},
          "execution_count": 12
        }
      ]
    },
    {
      "cell_type": "markdown",
      "source": [
        "the above creates a pivot table where rows are books and columns are users, with ratings as values.\n",
        "\n",
        "computes similarity between books using cosine similarity\n",
        "\n",
        "finds the top 5 most similar books for a given title"
      ],
      "metadata": {
        "id": "_5FtFQaofjtV"
      }
    },
    {
      "cell_type": "markdown",
      "source": [
        "the above didnt work due to RAM limitations\n",
        "\n",
        "**optimized collaborative filtering:**\n",
        "\n",
        "1. filtering active users and popular books to reduce matrix size\n",
        "2. using sparse matrices for cosine similarity instead of dense matrices"
      ],
      "metadata": {
        "id": "xFkLefq10tpg"
      }
    },
    {
      "cell_type": "code",
      "source": [
        "!pip install fuzzywuzzy"
      ],
      "metadata": {
        "colab": {
          "base_uri": "https://localhost:8080/"
        },
        "id": "aIOX8mJ0JIh5",
        "outputId": "44a92a91-4b82-4c0e-edb0-7c8b846c71bd"
      },
      "execution_count": 13,
      "outputs": [
        {
          "output_type": "stream",
          "name": "stdout",
          "text": [
            "Collecting fuzzywuzzy\n",
            "  Downloading fuzzywuzzy-0.18.0-py2.py3-none-any.whl.metadata (4.9 kB)\n",
            "Downloading fuzzywuzzy-0.18.0-py2.py3-none-any.whl (18 kB)\n",
            "Installing collected packages: fuzzywuzzy\n",
            "Successfully installed fuzzywuzzy-0.18.0\n"
          ]
        }
      ]
    },
    {
      "cell_type": "code",
      "source": [
        "from sklearn.metrics.pairwise import cosine_similarity\n",
        "from scipy.sparse import csr_matrix\n",
        "from fuzzywuzzy import process\n",
        "import numpy as np\n",
        "\n",
        "#(1)filter active Users and popular Books\n",
        "#filter active users who have rated more than 200 books\n",
        "active_users = ratings.groupby('User-ID')['Book-Rating'].count()\n",
        "active_users = active_users[active_users > 200].index\n",
        "\n",
        "#filter books with more than 50 ratings\n",
        "popular_books = ratings.groupby('ISBN')['Book-Rating'].count()\n",
        "popular_books = popular_books[popular_books > 50].index\n",
        "\n",
        "#filter data\n",
        "filtered_ratings = ratings[(ratings['User-ID'].isin(active_users)) &\n",
        "                            (ratings['ISBN'].isin(popular_books))]\n",
        "\n",
        "print(f\"Filtered Ratings Shape: {filtered_ratings.shape}\")\n",
        "\n",
        "#(2)merge Ratings with Books to Map Titles to ISBNs\n",
        "#merge books with ratings to get titles\n",
        "filtered_ratings = filtered_ratings.merge(books, on='ISBN')\n",
        "print(f\"Filtered Ratings with Titles: {filtered_ratings.shape}\")\n",
        "\n",
        "#(3)create Pivot Table and Convert to Sparse Matrix\n",
        "#pivot table for collaborative filtering\n",
        "pt = filtered_ratings.pivot_table(index='Book-Title', columns='User-ID', values='Book-Rating').fillna(0)\n",
        "\n",
        "print(f\"Pivot Table Shape: {pt.shape}\")\n",
        "\n",
        "#convert to sparse matrix to save memory\n",
        "sparse_pt = csr_matrix(pt)\n",
        "\n",
        "#compute cosine similarity\n",
        "similarity_scores = cosine_similarity(sparse_pt)\n",
        "print(f\"Similarity Scores Shape: {similarity_scores.shape}\")\n",
        "\n",
        "#(4)fuzzy Matching for Title Lookup\n",
        "def find_closest_match(book_name):\n",
        "    \"\"\"Find the closest matching title in the pivot table.\"\"\"\n",
        "    matches = process.extractOne(book_name, pt.index)\n",
        "    return matches[0] if matches else None\n",
        "\n",
        "#(5)collaborative filtering recommendation function\n",
        "def recommend_by_colab(book_name):\n",
        "    \"\"\"Recommend books based on collaborative filtering.\"\"\"\n",
        "    #handle fuzzy matching to find the closest match\n",
        "    closest_match = find_closest_match(book_name)\n",
        "    if closest_match is None:\n",
        "        return [\"Book not found in collaborative filtering dataset.\"]\n",
        "\n",
        "    #fetch index of the matched book\n",
        "    index = np.where(pt.index == closest_match)[0][0]\n",
        "\n",
        "    #get similarity scores\n",
        "    scores = list(enumerate(similarity_scores[index]))\n",
        "\n",
        "    #sort by similarity and fetch top 5 recommendations\n",
        "    scores = sorted(scores, key=lambda x: x[1], reverse=True)[1:6]\n",
        "    recommendations = [pt.index[i[0]] for i in scores]\n",
        "\n",
        "    return recommendations\n",
        "\n",
        "#(6)test recommendations\n",
        "print(recommend_by_colab('The Hobbit'))  #replace with an actual book title"
      ],
      "metadata": {
        "colab": {
          "base_uri": "https://localhost:8080/"
        },
        "id": "E2gkD_Uq00Eo",
        "outputId": "ca13a331-c26e-43d5-d1b9-7c52c71a4fb6"
      },
      "execution_count": 14,
      "outputs": [
        {
          "output_type": "stream",
          "name": "stderr",
          "text": [
            "/usr/local/lib/python3.10/dist-packages/fuzzywuzzy/fuzz.py:11: UserWarning: Using slow pure-python SequenceMatcher. Install python-Levenshtein to remove this warning\n",
            "  warnings.warn('Using slow pure-python SequenceMatcher. Install python-Levenshtein to remove this warning')\n"
          ]
        },
        {
          "output_type": "stream",
          "name": "stdout",
          "text": [
            "Filtered Ratings Shape: (90529, 3)\n",
            "Filtered Ratings with Titles: (89929, 10)\n",
            "Pivot Table Shape: (1913, 891)\n",
            "Similarity Scores Shape: (1913, 1913)\n",
            "['Bag of Bones', 'The Regulators', 'Pet Sematary', 'Skeleton Crew', 'The Bachman Books: Rage, the Long Walk, Roadwork, the Running Man']\n"
          ]
        }
      ]
    },
    {
      "cell_type": "code",
      "source": [
        "#print(find_closest_match('The Hobbit'))"
      ],
      "metadata": {
        "id": "LlPs_KU-ml48"
      },
      "execution_count": 15,
      "outputs": []
    },
    {
      "cell_type": "code",
      "source": [
        "#print(filtered_ratings['Book-Title'].unique())"
      ],
      "metadata": {
        "id": "UwEg1rhJmpnz"
      },
      "execution_count": 16,
      "outputs": []
    },
    {
      "cell_type": "code",
      "source": [
        "#print(similarity_scores[index])"
      ],
      "metadata": {
        "id": "9ZSADAbxmr4U"
      },
      "execution_count": 17,
      "outputs": []
    },
    {
      "cell_type": "markdown",
      "source": [
        "this works because:\n",
        "\n",
        "•\tFiltered Data: Reduces rows and columns based on active users and popular books.\n",
        "\n",
        "•\tSparse Matrices: Stores only non-zero values, drastically cutting down memory usage.\n",
        "\n",
        "•\tCosine Similarity on Sparse Matrices: Efficiently computes similarity without inflating memory usage."
      ],
      "metadata": {
        "id": "vp6THmR3AlqC"
      }
    },
    {
      "cell_type": "markdown",
      "source": [
        "**genre-based filtering**"
      ],
      "metadata": {
        "id": "ArnyOXmZfyGa"
      }
    },
    {
      "cell_type": "code",
      "source": [
        "'''\n",
        "#use TF-IDF to vectorize genres or descriptions\n",
        "books['Book-Author'] = books['Book-Author'].fillna('')  #fill missing values\n",
        "tfidf = TfidfVectorizer(stop_words='english')\n",
        "tfidf_matrix = tfidf.fit_transform(books['Book-Author'])\n",
        "\n",
        "#compute cosine similarity\n",
        "genre_similarity = cosine_similarity(tfidf_matrix)\n",
        "\n",
        "#recommend books based on author similarity\n",
        "def recommend_by_genre(book_title):\n",
        "    idx = books[books['Book-Title'] == book_title].index[0]\n",
        "    sim_scores = list(enumerate(genre_similarity[idx]))\n",
        "    sim_scores = sorted(sim_scores, key=lambda x: x[1], reverse=True)[1:6]\n",
        "    book_indices = [i[0] for i in sim_scores]\n",
        "    return books.iloc[book_indices][['Book-Title', 'Book-Author', 'Image-URL-M']]\n",
        "\n",
        "#example: Genre-based recommendations\n",
        "print(recommend_by_genre('1984'))\n",
        "'''"
      ],
      "metadata": {
        "id": "df_iLTVLfezW",
        "colab": {
          "base_uri": "https://localhost:8080/",
          "height": 122
        },
        "outputId": "960d2606-7712-4f88-8cd9-58fd7630b0c1"
      },
      "execution_count": 18,
      "outputs": [
        {
          "output_type": "execute_result",
          "data": {
            "text/plain": [
              "\"\\n#use TF-IDF to vectorize genres or descriptions\\nbooks['Book-Author'] = books['Book-Author'].fillna('')  #fill missing values\\ntfidf = TfidfVectorizer(stop_words='english')\\ntfidf_matrix = tfidf.fit_transform(books['Book-Author'])\\n\\n#compute cosine similarity\\ngenre_similarity = cosine_similarity(tfidf_matrix)\\n\\n#recommend books based on author similarity\\ndef recommend_by_genre(book_title):\\n    idx = books[books['Book-Title'] == book_title].index[0]\\n    sim_scores = list(enumerate(genre_similarity[idx]))\\n    sim_scores = sorted(sim_scores, key=lambda x: x[1], reverse=True)[1:6]\\n    book_indices = [i[0] for i in sim_scores]\\n    return books.iloc[book_indices][['Book-Title', 'Book-Author', 'Image-URL-M']]\\n\\n#example: Genre-based recommendations\\nprint(recommend_by_genre('1984'))\\n\""
            ],
            "application/vnd.google.colaboratory.intrinsic+json": {
              "type": "string"
            }
          },
          "metadata": {},
          "execution_count": 18
        }
      ]
    },
    {
      "cell_type": "markdown",
      "source": [
        "**optimized genre based filtering**"
      ],
      "metadata": {
        "id": "IVNox7js6BGL"
      }
    },
    {
      "cell_type": "code",
      "source": [
        "from sklearn.feature_extraction.text import TfidfVectorizer\n",
        "from sklearn.metrics.pairwise import cosine_similarity\n",
        "from fuzzywuzzy import process  #for fuzzy matching\n",
        "import numpy as np\n",
        "\n",
        "#(1)filling in missing values in book-author column\n",
        "books['Book-Author'] = books['Book-Author'].fillna('')\n",
        "\n",
        "#(2)limiting to book filtered earlier for ratings\n",
        "filtered_books = books[books['ISBN'].isin(filtered_ratings['ISBN'].unique())]\n",
        "filtered_books = filtered_books.reset_index(drop=True)\n",
        "print(f\"Filtered Books Shape: {filtered_books.shape}\")\n",
        "\n",
        "#(3)tf-idf vectorization (converting the text into numerical features)\n",
        "tfidf = TfidfVectorizer(stop_words='english')\n",
        "tfidf_matrix = tfidf.fit_transform(filtered_books['Book-Author'])\n",
        "print(f\"TF-IDF Matrix Shape: {tfidf_matrix.shape}\")\n",
        "\n",
        "#(4)compute similarity in batches to save memory\n",
        "batch_size = 500\n",
        "similarity_batches = []\n",
        "\n",
        "for i in range(0, tfidf_matrix.shape[0], batch_size):\n",
        "    #compute cosine similarity batch-wise\n",
        "    batch = tfidf_matrix[i:i + batch_size]\n",
        "    sim = cosine_similarity(batch, tfidf_matrix)\n",
        "    similarity_batches.append(sim)\n",
        "\n",
        "#combine all batches into a single matrix\n",
        "genre_similarity = np.vstack(similarity_batches)\n",
        "print(f\"Genre Similarity Shape: {genre_similarity.shape}\")\n",
        "\n",
        "#(5)fuzzy matching to Handle Title Mismatches\n",
        "def find_closest_match(book_title):\n",
        "    \"\"\"Find the closest matching book title using fuzzy matching.\"\"\"\n",
        "    matches = process.extractOne(book_title, filtered_books['Book-Title'].values)\n",
        "    return matches[0] #return the closest match\n",
        "\n",
        "#(6)Genre-Based Recommendation Function\n",
        "def recommend_by_genre(book_title):\n",
        "    \"\"\"Recommend books based on genre similarity.\"\"\"\n",
        "    #find the closest match for the given book title\n",
        "    closest_title = find_closest_match(book_title)\n",
        "    print(f\"Using closest match: {closest_title}\")\n",
        "\n",
        "    #get index of the closest title\n",
        "    idx = filtered_books[filtered_books['Book-Title'] == closest_title].index[0]\n",
        "\n",
        "    #compute similarity scores\n",
        "    scores = list(enumerate(genre_similarity[idx]))\n",
        "    scores = sorted(scores, key=lambda x: x[1], reverse=True)[1:6]  # Top 5 similar books\n",
        "\n",
        "    #extract book indices\n",
        "    book_indices = [i[0] for i in scores]\n",
        "\n",
        "    #return recommended books with their details\n",
        "    return filtered_books.iloc[book_indices][['Book-Title', 'Book-Author', 'Image-URL-M']]\n",
        "\n",
        "#(7) testing\n",
        "book_title = 'The Hobbit'\n",
        "print(recommend_by_genre(book_title))"
      ],
      "metadata": {
        "colab": {
          "base_uri": "https://localhost:8080/"
        },
        "id": "dtanMtJR567K",
        "outputId": "18398159-b795-4790-f913-75859b2776d8"
      },
      "execution_count": 19,
      "outputs": [
        {
          "output_type": "stream",
          "name": "stdout",
          "text": [
            "Filtered Books Shape: (2101, 8)\n",
            "TF-IDF Matrix Shape: (2101, 1031)\n",
            "Genre Similarity Shape: (2101, 2101)\n",
            "Using closest match: The Hobbit: or There and Back Again\n",
            "                                            Book-Title     Book-Author  \\\n",
            "339                                   The Silmarillion  J.R.R. TOLKIEN   \n",
            "381  The Fellowship of the Ring (The Lord of the Ri...  J.R.R. TOLKIEN   \n",
            "574                The Hobbit: or There and Back Again  J.R.R. Tolkien   \n",
            "659  The Hobbit : The Enchanting Prelude to The Lor...  J.R.R. TOLKIEN   \n",
            "778  The Return of the King (The Lord of the Rings,...  J.R.R. TOLKIEN   \n",
            "\n",
            "                                           Image-URL-M  \n",
            "339  http://images.amazon.com/images/P/0345325818.0...  \n",
            "381  http://images.amazon.com/images/P/0345339703.0...  \n",
            "574  http://images.amazon.com/images/P/0618002219.0...  \n",
            "659  http://images.amazon.com/images/P/0345339681.0...  \n",
            "778  http://images.amazon.com/images/P/0345339738.0...  \n"
          ]
        }
      ]
    },
    {
      "cell_type": "markdown",
      "source": [
        "key changes:\n",
        "1.\tBatch Processing for Similarity Calculations to avoid RAM overload.\n",
        "2.\tTF-IDF Vectorization limited to filtered books only."
      ],
      "metadata": {
        "id": "rv8EmgG759bz"
      }
    },
    {
      "cell_type": "markdown",
      "source": [
        "**hybrid recommendations**"
      ],
      "metadata": {
        "id": "k2tdj2FpgccE"
      }
    },
    {
      "cell_type": "code",
      "source": [
        "def hybrid_recommend(book_name):\n",
        "    #collaborative filtering recommendations\n",
        "    collab_recommendations = recommend_by_colab(book_name)\n",
        "\n",
        "    #genre-based recommendations\n",
        "    genre_recommendations = recommend_by_genre(book_name)['Book-Title'].tolist()\n",
        "\n",
        "    #combine results\n",
        "    combined = list(set(collab_recommendations + genre_recommendations))\n",
        "    return combined[:5]  #return top 5 unique recommendations\n",
        "\n",
        "#eg: Hybrid recommendations\n",
        "print(hybrid_recommend('The Hobbit'))"
      ],
      "metadata": {
        "id": "0kuHppRVgIZV",
        "colab": {
          "base_uri": "https://localhost:8080/"
        },
        "outputId": "d15aa17f-fb87-4b48-8b48-9f435e7f1c16"
      },
      "execution_count": 20,
      "outputs": [
        {
          "output_type": "stream",
          "name": "stdout",
          "text": [
            "Using closest match: The Hobbit: or There and Back Again\n",
            "['Asking for Trouble: A Novel', 'The Fellowship of the Ring (The Lord of the Rings, Part 1)', 'Border Music', 'The Hobbit : The Enchanting Prelude to The Lord of the Rings', 'Blood Orchid']\n"
          ]
        }
      ]
    },
    {
      "cell_type": "markdown",
      "source": [
        "**saving models**"
      ],
      "metadata": {
        "id": "Fsz20xHigt36"
      }
    },
    {
      "cell_type": "code",
      "source": [
        "import pickle\n",
        "pickle.dump(pt, open('pivot_table.pkl', 'wb'))\n",
        "pickle.dump(similarity_scores, open('similarity_scores.pkl', 'wb'))\n",
        "pickle.dump(filtered_ratings, open('filtered_ratings.pkl', 'wb'))"
      ],
      "metadata": {
        "id": "RxXgqZ1XgvsG"
      },
      "execution_count": 21,
      "outputs": []
    },
    {
      "cell_type": "code",
      "source": [
        "!pip install flask\n",
        "!pip install flask_cors\n",
        "!pip install requests"
      ],
      "metadata": {
        "colab": {
          "base_uri": "https://localhost:8080/"
        },
        "id": "J-JZfGrWN8ly",
        "outputId": "dfc2f10a-6c12-4da7-be49-3e9e2bed2440"
      },
      "execution_count": 22,
      "outputs": [
        {
          "output_type": "stream",
          "name": "stdout",
          "text": [
            "Requirement already satisfied: flask in /usr/local/lib/python3.10/dist-packages (3.1.0)\n",
            "Requirement already satisfied: Werkzeug>=3.1 in /usr/local/lib/python3.10/dist-packages (from flask) (3.1.3)\n",
            "Requirement already satisfied: Jinja2>=3.1.2 in /usr/local/lib/python3.10/dist-packages (from flask) (3.1.4)\n",
            "Requirement already satisfied: itsdangerous>=2.2 in /usr/local/lib/python3.10/dist-packages (from flask) (2.2.0)\n",
            "Requirement already satisfied: click>=8.1.3 in /usr/local/lib/python3.10/dist-packages (from flask) (8.1.7)\n",
            "Requirement already satisfied: blinker>=1.9 in /usr/local/lib/python3.10/dist-packages (from flask) (1.9.0)\n",
            "Requirement already satisfied: MarkupSafe>=2.0 in /usr/local/lib/python3.10/dist-packages (from Jinja2>=3.1.2->flask) (3.0.2)\n",
            "Collecting flask_cors\n",
            "  Downloading Flask_Cors-5.0.0-py2.py3-none-any.whl.metadata (5.5 kB)\n",
            "Requirement already satisfied: Flask>=0.9 in /usr/local/lib/python3.10/dist-packages (from flask_cors) (3.1.0)\n",
            "Requirement already satisfied: Werkzeug>=3.1 in /usr/local/lib/python3.10/dist-packages (from Flask>=0.9->flask_cors) (3.1.3)\n",
            "Requirement already satisfied: Jinja2>=3.1.2 in /usr/local/lib/python3.10/dist-packages (from Flask>=0.9->flask_cors) (3.1.4)\n",
            "Requirement already satisfied: itsdangerous>=2.2 in /usr/local/lib/python3.10/dist-packages (from Flask>=0.9->flask_cors) (2.2.0)\n",
            "Requirement already satisfied: click>=8.1.3 in /usr/local/lib/python3.10/dist-packages (from Flask>=0.9->flask_cors) (8.1.7)\n",
            "Requirement already satisfied: blinker>=1.9 in /usr/local/lib/python3.10/dist-packages (from Flask>=0.9->flask_cors) (1.9.0)\n",
            "Requirement already satisfied: MarkupSafe>=2.0 in /usr/local/lib/python3.10/dist-packages (from Jinja2>=3.1.2->Flask>=0.9->flask_cors) (3.0.2)\n",
            "Downloading Flask_Cors-5.0.0-py2.py3-none-any.whl (14 kB)\n",
            "Installing collected packages: flask_cors\n",
            "Successfully installed flask_cors-5.0.0\n",
            "Requirement already satisfied: requests in /usr/local/lib/python3.10/dist-packages (2.32.3)\n",
            "Requirement already satisfied: charset-normalizer<4,>=2 in /usr/local/lib/python3.10/dist-packages (from requests) (3.4.0)\n",
            "Requirement already satisfied: idna<4,>=2.5 in /usr/local/lib/python3.10/dist-packages (from requests) (3.10)\n",
            "Requirement already satisfied: urllib3<3,>=1.21.1 in /usr/local/lib/python3.10/dist-packages (from requests) (2.2.3)\n",
            "Requirement already satisfied: certifi>=2017.4.17 in /usr/local/lib/python3.10/dist-packages (from requests) (2024.12.14)\n"
          ]
        }
      ]
    },
    {
      "cell_type": "code",
      "source": [],
      "metadata": {
        "id": "4vjFFtZgN80d"
      },
      "execution_count": 22,
      "outputs": []
    }
  ]
}